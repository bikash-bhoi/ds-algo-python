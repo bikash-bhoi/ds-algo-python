{
  "nbformat": 4,
  "nbformat_minor": 0,
  "metadata": {
    "colab": {
      "provenance": [],
      "authorship_tag": "ABX9TyMzutjq9cdnxcSOP0uxSJZK",
      "include_colab_link": true
    },
    "kernelspec": {
      "name": "python3",
      "display_name": "Python 3"
    },
    "language_info": {
      "name": "python"
    }
  },
  "cells": [
    {
      "cell_type": "markdown",
      "metadata": {
        "id": "view-in-github",
        "colab_type": "text"
      },
      "source": [
        "<a href=\"https://colab.research.google.com/github/bikash-bhoi/ds-algo-python/blob/main/notebooks/Heap.ipynb\" target=\"_parent\"><img src=\"https://colab.research.google.com/assets/colab-badge.svg\" alt=\"Open In Colab\"/></a>"
      ]
    },
    {
      "cell_type": "markdown",
      "source": [
        "### Primitive implementation\n",
        "#### Max Heap"
      ],
      "metadata": {
        "id": "JoTK_a0Mljlr"
      }
    },
    {
      "cell_type": "code",
      "execution_count": null,
      "metadata": {
        "id": "fVL0VB1XcbD7"
      },
      "outputs": [],
      "source": [
        "class Heap:\n",
        "\n",
        "  def __init__(self):\n",
        "    self.maxsize = 10\n",
        "    self.data = [-1] * self.maxsize\n",
        "    self.csize = 0\n",
        "\n",
        "  def __len__(self):\n",
        "    return len(self.data)\n",
        "  \n",
        "  def isempty(self):\n",
        "    return len(self.data) == 0\n",
        "  \n",
        "  def insert(self, e):\n",
        "    if self.csize == self.maxsize:\n",
        "      print(\"No Space\")\n",
        "      return\n",
        "    \n",
        "    self.csize += 1\n",
        "    hi = self.csize\n",
        "    while hi > 1 and e > self.data[hi//2]:\n",
        "      self.data[hi] = self.data[hi//2]\n",
        "      hi = hi // 2\n",
        "    self.data[hi] = e\n",
        "    print(f\"inserted : {e}\")\n",
        "    print(self)\n",
        "  \n",
        "  def max(self):\n",
        "    if self.isempty():\n",
        "      print(\"Heap is empty\")\n",
        "      return\n",
        "    return self.data[1]\n",
        "\n",
        "  def deleteMax(self):\n",
        "    if self.isempty():\n",
        "      print(\"Empty Heap\")\n",
        "      return -1\n",
        "    e = self.data[1]\n",
        "    self.data[1] = self.data[self.csize]\n",
        "    self.data[self.csize] = -1\n",
        "    self.csize -= 1\n",
        "    i = 1\n",
        "    j = i * 2\n",
        "    if self.data[j] < self.data[j+1]:\n",
        "      j += 1\n",
        "    \n",
        "    while j <= self.csize:\n",
        "      if self.data[i] < self.data[j]:\n",
        "        self.data[i], self.data[j] = self.data[j], self.data[i]\n",
        "        i = j \n",
        "        j *= 2\n",
        "      else:\n",
        "        break\n",
        "    print(\"Deleted max : {}\".format(e))\n",
        "    print(self)\n",
        "    return e \n",
        "\n",
        "  def __str__(self):\n",
        "    return f\"Size : {self.csize} Empty? : {self.isempty()}, Max : {self.max()}, Array : {self.data}\"\n",
        "  \n"
      ]
    },
    {
      "cell_type": "code",
      "source": [
        "\n",
        "s = Heap()\n",
        "s.insert(25)\n",
        "s.insert(14)\n",
        "s.insert(2)\n",
        "s.insert(20)\n",
        "s.insert(10)\n",
        "s.insert(40)\n",
        "\n",
        "s.deleteMax()\n",
        "\n"
      ],
      "metadata": {
        "colab": {
          "base_uri": "https://localhost:8080/"
        },
        "id": "sGCI68QOfmLP",
        "outputId": "dfb428c0-0184-4018-8079-3474570612ff"
      },
      "execution_count": null,
      "outputs": [
        {
          "output_type": "stream",
          "name": "stdout",
          "text": [
            "inserted : 25\n",
            "Size : 1 Empty? : False, Max : 25, Array : [-1, 25, -1, -1, -1, -1, -1, -1, -1, -1]\n",
            "inserted : 14\n",
            "Size : 2 Empty? : False, Max : 25, Array : [-1, 25, 14, -1, -1, -1, -1, -1, -1, -1]\n",
            "inserted : 2\n",
            "Size : 3 Empty? : False, Max : 25, Array : [-1, 25, 14, 2, -1, -1, -1, -1, -1, -1]\n",
            "inserted : 20\n",
            "Size : 4 Empty? : False, Max : 25, Array : [-1, 25, 20, 2, 14, -1, -1, -1, -1, -1]\n",
            "inserted : 10\n",
            "Size : 5 Empty? : False, Max : 25, Array : [-1, 25, 20, 2, 14, 10, -1, -1, -1, -1]\n",
            "inserted : 40\n",
            "Size : 6 Empty? : False, Max : 40, Array : [-1, 40, 20, 25, 14, 10, 2, -1, -1, -1]\n",
            "Deleted max : 40\n",
            "Size : 5 Empty? : False, Max : 25, Array : [-1, 25, 20, 2, 14, 10, -1, -1, -1, -1]\n"
          ]
        },
        {
          "output_type": "execute_result",
          "data": {
            "text/plain": [
              "40"
            ]
          },
          "metadata": {},
          "execution_count": 31
        }
      ]
    },
    {
      "cell_type": "markdown",
      "source": [
        "### Heapq python\n",
        "\n",
        "\n",
        "1.   Creates minheap implementation\n",
        "\n"
      ],
      "metadata": {
        "id": "TizGyh_plgZk"
      }
    },
    {
      "cell_type": "code",
      "source": [
        "import heapq as heap\n",
        "L1 = []\n",
        "heap.heappush(L1,25)\n",
        "heap.heappush(L1,14)\n",
        "heap.heappush(L1,2)\n",
        "heap.heappush(L1,20)\n",
        "heap.heappush(L1,10)\n",
        "print(L1)\n",
        "e = heap.heappop(L1)\n",
        "print(e, L1)\n",
        "\n",
        "e = heap.heappushpop(L1, 35)\n",
        "print(e, L1)\n",
        "\n",
        "\n",
        "e = heap.heappushpop(L1, 1)\n",
        "print(e, L1)\n",
        "\n",
        "e = heap.heapreplace(L1, 1)\n",
        "print(e, L1)"
      ],
      "metadata": {
        "colab": {
          "base_uri": "https://localhost:8080/"
        },
        "id": "ePNODDKxgkLH",
        "outputId": "22096282-8e39-484b-8bc9-d31851ffab31"
      },
      "execution_count": null,
      "outputs": [
        {
          "output_type": "stream",
          "name": "stdout",
          "text": [
            "[2, 10, 14, 25, 20]\n",
            "2 [10, 20, 14, 25]\n",
            "10 [14, 20, 35, 25]\n",
            "1 [14, 20, 35, 25]\n",
            "14 [1, 20, 35, 25]\n"
          ]
        }
      ]
    },
    {
      "cell_type": "code",
      "source": [
        "L1 = [25, 14, 2, 20, 10, 15]\n",
        "print(L1)\n",
        "heap.heapify(L1)\n",
        "print(L1)\n",
        "print(heap.nsmallest(3, L1))\n",
        "print(heap.nlargest(3, L1))"
      ],
      "metadata": {
        "colab": {
          "base_uri": "https://localhost:8080/"
        },
        "id": "wsUXoXbjnJ_U",
        "outputId": "a32612e8-2d80-46e7-d18c-4a7e0b320149"
      },
      "execution_count": null,
      "outputs": [
        {
          "output_type": "stream",
          "name": "stdout",
          "text": [
            "[25, 14, 2, 20, 10, 15]\n",
            "[2, 10, 15, 20, 14, 25]\n",
            "[2, 10, 14]\n",
            "[25, 20, 15]\n"
          ]
        }
      ]
    },
    {
      "cell_type": "markdown",
      "source": [
        "### HeapSort"
      ],
      "metadata": {
        "id": "kqqsL2ZMn8-q"
      }
    },
    {
      "cell_type": "code",
      "source": [
        "def heapsort(A):\n",
        "  h = Heap()\n",
        "  n = len(A)\n",
        "  for i in range(n):\n",
        "    h.insert(A[i])\n",
        "  \n",
        "  k = n-1\n",
        "  for i in range(h.csize):\n",
        "    A[k] = h.deleteMax()\n",
        "    k -= 1\n",
        "  \n",
        "  return A\n",
        "\n",
        "heapsort([25, 14, 2, 20, 10, 15])"
      ],
      "metadata": {
        "colab": {
          "base_uri": "https://localhost:8080/"
        },
        "id": "YJGjfR3cn8dS",
        "outputId": "05950dbb-2e34-490e-e62b-ce65d6735744"
      },
      "execution_count": null,
      "outputs": [
        {
          "output_type": "stream",
          "name": "stdout",
          "text": [
            "inserted : 25\n",
            "Size : 1 Empty? : False, Max : 25, Array : [-1, 25, -1, -1, -1, -1, -1, -1, -1, -1]\n",
            "inserted : 14\n",
            "Size : 2 Empty? : False, Max : 25, Array : [-1, 25, 14, -1, -1, -1, -1, -1, -1, -1]\n",
            "inserted : 2\n",
            "Size : 3 Empty? : False, Max : 25, Array : [-1, 25, 14, 2, -1, -1, -1, -1, -1, -1]\n",
            "inserted : 20\n",
            "Size : 4 Empty? : False, Max : 25, Array : [-1, 25, 20, 2, 14, -1, -1, -1, -1, -1]\n",
            "inserted : 10\n",
            "Size : 5 Empty? : False, Max : 25, Array : [-1, 25, 20, 2, 14, 10, -1, -1, -1, -1]\n",
            "inserted : 15\n",
            "Size : 6 Empty? : False, Max : 25, Array : [-1, 25, 20, 15, 14, 10, 2, -1, -1, -1]\n",
            "Deleted max : 25\n",
            "Size : 5 Empty? : False, Max : 20, Array : [-1, 20, 14, 15, 2, 10, -1, -1, -1, -1]\n",
            "Deleted max : 20\n",
            "Size : 4 Empty? : False, Max : 15, Array : [-1, 15, 14, 10, 2, -1, -1, -1, -1, -1]\n",
            "Deleted max : 15\n",
            "Size : 3 Empty? : False, Max : 14, Array : [-1, 14, 2, 10, -1, -1, -1, -1, -1, -1]\n",
            "Deleted max : 14\n",
            "Size : 2 Empty? : False, Max : 10, Array : [-1, 10, 2, -1, -1, -1, -1, -1, -1, -1]\n",
            "Deleted max : 10\n",
            "Size : 1 Empty? : False, Max : 2, Array : [-1, 2, -1, -1, -1, -1, -1, -1, -1, -1]\n",
            "Deleted max : 2\n",
            "Size : 0 Empty? : False, Max : -1, Array : [-1, -1, -1, -1, -1, -1, -1, -1, -1, -1]\n"
          ]
        },
        {
          "output_type": "execute_result",
          "data": {
            "text/plain": [
              "[2, 10, 14, 15, 20, 25]"
            ]
          },
          "metadata": {},
          "execution_count": 44
        }
      ]
    }
  ]
}