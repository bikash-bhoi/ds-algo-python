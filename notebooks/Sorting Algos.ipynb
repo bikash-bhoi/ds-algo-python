{
 "cells": [
  {
   "cell_type": "markdown",
   "metadata": {
    "id": "aEPtMcIg_S8U"
   },
   "source": [
    "# Sorting \n",
    "\n",
    "### Stable Sorting : \n",
    "The locations of duplicates elements are preserved.\n",
    "\n",
    "### Unstable Sorting : \n",
    "The locations of duplicates elements are not preserved.\n",
    "\n",
    "\n",
    "[Cool Animation](https://visualgo.net/en/sorting)\n",
    "\n",
    "\n",
    "**Cheat sheet**\n",
    "\n",
    "![](https://miro.medium.com/v2/resize:fit:4800/format:webp/1*bKZUD0XAHlIVXoZ171Jxwg.jpeg)\n"
   ]
  },
  {
   "cell_type": "markdown",
   "metadata": {
    "id": "5rpgSGwZAOkU"
   },
   "source": [
    "## Selection Sort\n",
    "\n",
    "**O(n<sup>2</sup>)**\n",
    "\n",
    "\n"
   ]
  },
  {
   "cell_type": "code",
   "execution_count": null,
   "metadata": {
    "colab": {
     "base_uri": "https://localhost:8080/"
    },
    "executionInfo": {
     "elapsed": 4,
     "status": "ok",
     "timestamp": 1680792355683,
     "user": {
      "displayName": "Bikash Bhoi",
      "userId": "08462101886525769565"
     },
     "user_tz": -330
    },
    "id": "u6lDiqIxAOEM",
    "outputId": "dda0de55-43fa-45f8-a4aa-c18055446fef"
   },
   "outputs": [
    {
     "name": "stdout",
     "output_type": "stream",
     "text": [
      "[1, 3, 4, 5, 5, 5, 7, 9, 9]\n"
     ]
    }
   ],
   "source": [
    "def selection_sort(A):\n",
    "  n = len(A)\n",
    "  for i in range(n-1):\n",
    "    position = i\n",
    "    for j in range(i+1, n):\n",
    "      if A[j] < A[position]:\n",
    "        position = j\n",
    "    A[i], A[position] = A[position], A[i]\n",
    "\n",
    "\n",
    "A = [5,9,5,3,7,4,9,1,5]\n",
    "selection_sort(A)\n",
    "print(A)"
   ]
  },
  {
   "cell_type": "markdown",
   "metadata": {
    "id": "5nKss4HoZ_2D"
   },
   "source": [
    "## Insertion Sort\n",
    "\n",
    "**O(n<sup>2</sup>)**\n"
   ]
  },
  {
   "cell_type": "code",
   "execution_count": 1,
   "metadata": {
    "colab": {
     "base_uri": "https://localhost:8080/"
    },
    "executionInfo": {
     "elapsed": 3,
     "status": "ok",
     "timestamp": 1681202064707,
     "user": {
      "displayName": "Bikash Bhoi",
      "userId": "08462101886525769565"
     },
     "user_tz": -330
    },
    "id": "WEy_N3QEaCPi",
    "outputId": "a8710238-9936-43d1-c482-d7b483e80496"
   },
   "outputs": [
    {
     "name": "stdout",
     "output_type": "stream",
     "text": [
      "[1, 3, 4, 5, 5, 5, 7, 9, 9]\n"
     ]
    }
   ],
   "source": [
    "def insertion_sort(A):\n",
    "  n = len(A)\n",
    "  for i in range(1,n):\n",
    "    cvalue = A[i]\n",
    "    position = i\n",
    "    while position > 0 and A[position-1] > cvalue:\n",
    "      A[position] = A[position -1]\n",
    "      position -= 1\n",
    "    A[position] = cvalue\n",
    "\n",
    "      \n",
    "\n",
    " \n",
    "A = [5,9,5,3,7,4,9,1,5]\n",
    "insertion_sort(A)\n",
    "print(A)"
   ]
  },
  {
   "cell_type": "markdown",
   "metadata": {
    "id": "nB78BSNFdvj5"
   },
   "source": [
    "## Bubble Sort\n",
    "\n",
    "**O(n<sup>2</sup>)**\n"
   ]
  },
  {
   "cell_type": "code",
   "execution_count": 2,
   "metadata": {
    "colab": {
     "base_uri": "https://localhost:8080/"
    },
    "executionInfo": {
     "elapsed": 425,
     "status": "ok",
     "timestamp": 1681202429792,
     "user": {
      "displayName": "Bikash Bhoi",
      "userId": "08462101886525769565"
     },
     "user_tz": -330
    },
    "id": "HnC6AItXdxOS",
    "outputId": "917e1194-bf2a-476d-98e5-b687cb2b27ab"
   },
   "outputs": [
    {
     "name": "stdout",
     "output_type": "stream",
     "text": [
      "[1, 3, 4, 5, 5, 5, 7, 9, 9]\n"
     ]
    }
   ],
   "source": [
    "def bubble_sort(A):\n",
    "  n = len(A)\n",
    "  for passes in range(n-1,0,-1):\n",
    "    for i in range(passes):\n",
    "      if A[i] > A[i+1]:\n",
    "        A[i], A[i+1] = A[i+1], A[i]\n",
    "\n",
    "      \n",
    "\n",
    " \n",
    "A = [5,9,5,3,7,4,9,1,5]\n",
    "bubble_sort(A)\n",
    "print(A)"
   ]
  },
  {
   "cell_type": "markdown",
   "metadata": {
    "id": "g1g-xnWmgwDH"
   },
   "source": [
    "## Shell Sort\n",
    "\n",
    "**O(n log n)**"
   ]
  },
  {
   "cell_type": "code",
   "execution_count": 6,
   "metadata": {
    "colab": {
     "base_uri": "https://localhost:8080/"
    },
    "executionInfo": {
     "elapsed": 415,
     "status": "ok",
     "timestamp": 1681203704209,
     "user": {
      "displayName": "Bikash Bhoi",
      "userId": "08462101886525769565"
     },
     "user_tz": -330
    },
    "id": "Apw5W5szgvYP",
    "outputId": "09f84c94-4f85-4111-ae3e-918e36725bbc"
   },
   "outputs": [
    {
     "name": "stdout",
     "output_type": "stream",
     "text": [
      "[1, 3, 4, 5, 5, 5, 7, 9, 9]\n"
     ]
    }
   ],
   "source": [
    "def shell_sort(A):\n",
    "  n = len(A)\n",
    "  gap = n // 2\n",
    "  while gap > 0:\n",
    "    i = gap\n",
    "    while i < n:\n",
    "      temp = A[i]\n",
    "      j = i - gap\n",
    "      while j >= 0 and A[j] > temp:\n",
    "        A[j+gap] = A[j]\n",
    "        j = j - gap\n",
    "      A[j+gap] = temp\n",
    "      i += 1\n",
    "    gap = gap // 2\n",
    "      \n",
    "\n",
    " \n",
    "A = [5,9,5,3,7,4,9,1,5]\n",
    "shell_sort(A)\n",
    "print(A)"
   ]
  },
  {
   "cell_type": "markdown",
   "metadata": {
    "id": "NA8YiqVPjkwe"
   },
   "source": [
    "## Merge Sort\n",
    "\n",
    "**O(n log n)**"
   ]
  },
  {
   "cell_type": "code",
   "execution_count": 7,
   "metadata": {
    "colab": {
     "base_uri": "https://localhost:8080/"
    },
    "executionInfo": {
     "elapsed": 388,
     "status": "ok",
     "timestamp": 1681204644526,
     "user": {
      "displayName": "Bikash Bhoi",
      "userId": "08462101886525769565"
     },
     "user_tz": -330
    },
    "id": "TWWf50UvjM-u",
    "outputId": "c905cd74-6c71-4218-8c5e-df1e31886486"
   },
   "outputs": [
    {
     "name": "stdout",
     "output_type": "stream",
     "text": [
      "[1, 3, 4, 5, 5, 5, 7, 9, 9]\n"
     ]
    }
   ],
   "source": [
    "def merge(A, l, mid, r):\n",
    "  i = l\n",
    "  j = mid + 1\n",
    "  k = l\n",
    "  sorted_array = [0] * (r +1)\n",
    "  while i <= mid and j <= r:\n",
    "    if A[i] < A[j]:\n",
    "      sorted_array[k] = A[i]\n",
    "      i += 1\n",
    "    else:\n",
    "      sorted_array[k] = A[j]\n",
    "      j += 1\n",
    "    k += 1\n",
    "  while i <= mid:\n",
    "    sorted_array[k] = A[i]\n",
    "    i += 1\n",
    "    k += 1\n",
    "  while j <= r:\n",
    "    sorted_array[k] = A[j]\n",
    "    j += 1\n",
    "    k += 1\n",
    "\n",
    "  A = sorted_array\n",
    "    \n",
    "\n",
    "def merge_sort(A, l, r):\n",
    "  if l < r:\n",
    "    mid = (l + r) // 2\n",
    "    merge_sort(A, l, mid)\n",
    "    merge_sort(A, mid+1, r)\n",
    "    merge(A, l, mid, r)\n",
    "\n",
    "\n",
    "\n",
    "\n",
    "A = [5,9,5,3,7,4,9,1,5]\n",
    "shell_sort(A)\n",
    "print(A)"
   ]
  },
  {
   "cell_type": "markdown",
   "metadata": {
    "id": "QHvXysbMom0D"
   },
   "source": [
    "## Quick Sort\n",
    "\n",
    "**O(n log n)**\n",
    "\n",
    "Sorted Array : **O(n<sup>2</sup>)**\n"
   ]
  },
  {
   "cell_type": "code",
   "execution_count": 10,
   "metadata": {
    "colab": {
     "base_uri": "https://localhost:8080/"
    },
    "executionInfo": {
     "elapsed": 400,
     "status": "ok",
     "timestamp": 1681209430396,
     "user": {
      "displayName": "Bikash Bhoi",
      "userId": "08462101886525769565"
     },
     "user_tz": -330
    },
    "id": "k9o8Ux08omN7",
    "outputId": "6c84f2ec-7b9b-4b46-d1fc-82b45c97c737"
   },
   "outputs": [
    {
     "name": "stdout",
     "output_type": "stream",
     "text": [
      "[1, 3, 4, 5, 5, 5, 7, 9, 9]\n"
     ]
    }
   ],
   "source": [
    "def quick_sort(A, low, high):\n",
    "  if low < high:\n",
    "    pi = partition(A, low, high)\n",
    "    quick_sort(A, low, pi-1)\n",
    "    quick_sort(A, pi+1, high)\n",
    "\n",
    "def partition(A, low, high):\n",
    "  pivot = A[low]\n",
    "  i = low + 1\n",
    "  j = high\n",
    "\n",
    "  while True:\n",
    "    while i <= j and A[i] <= pivot:\n",
    "      i += 1\n",
    "    while i <= j and A[j] > pivot:\n",
    "      j -= 1\n",
    "    \n",
    "    if i <= j:\n",
    "      A[i], A[j] = A[j], A[i]\n",
    "    else:\n",
    "      break\n",
    "  A[low], A[j] = A[j], A[low]\n",
    "  return j\n",
    "\n",
    " \n",
    "A = [5,9,5,3,7,4,9,1,5]\n",
    "quick_sort(A, 0, len(A)-1)\n",
    "print(A)"
   ]
  },
  {
   "cell_type": "markdown",
   "metadata": {
    "id": "pJfvsMAQ5O6O"
   },
   "source": [
    "## Count Sort\n",
    "\n",
    "**O(n)**\n",
    "\n",
    "Space complexity is more and is in max range of element of Array\n"
   ]
  },
  {
   "cell_type": "code",
   "execution_count": 14,
   "metadata": {
    "colab": {
     "base_uri": "https://localhost:8080/"
    },
    "executionInfo": {
     "elapsed": 386,
     "status": "ok",
     "timestamp": 1681210048967,
     "user": {
      "displayName": "Bikash Bhoi",
      "userId": "08462101886525769565"
     },
     "user_tz": -330
    },
    "id": "Luiqf53S5Wqm",
    "outputId": "a9945def-bc4d-4f68-c0c7-83a1d1475db3"
   },
   "outputs": [
    {
     "name": "stdout",
     "output_type": "stream",
     "text": [
      "[1, 3, 4, 5, 5, 5, 7, 9, 9]\n"
     ]
    }
   ],
   "source": [
    "def count_sort(A):\n",
    "  n = len(A)\n",
    "  maxsize = max(A)\n",
    "  carray = [0] * (maxsize + 1)\n",
    "  for i in A:\n",
    "    carray[i] += 1\n",
    "\n",
    "  i = j = 0\n",
    "  while i < maxsize + 1:\n",
    "    if carray[i] > 0:\n",
    "      A[j] = i\n",
    "      j += 1\n",
    "      carray[i] -= 1\n",
    "    else:\n",
    "      i += 1\n",
    "\n",
    " \n",
    "A = [5,9,5,3,7,4,9,1,5]\n",
    "count_sort(A)\n",
    "print(A)"
   ]
  },
  {
   "cell_type": "markdown",
   "metadata": {
    "id": "_TB3JemyEMBZ"
   },
   "source": [
    "\n",
    "## Radix Sort\n",
    "\n",
    "**O(n)**\n",
    "\n",
    "Space complexity : **O(n)**"
   ]
  },
  {
   "cell_type": "code",
   "execution_count": 43,
   "metadata": {
    "colab": {
     "base_uri": "https://localhost:8080/"
    },
    "executionInfo": {
     "elapsed": 626,
     "status": "ok",
     "timestamp": 1681212128712,
     "user": {
      "displayName": "Bikash Bhoi",
      "userId": "08462101886525769565"
     },
     "user_tz": -330
    },
    "id": "O56-39038mb9",
    "outputId": "9b1f74f4-3fa1-4750-ec1b-e22a48260813"
   },
   "outputs": [
    {
     "name": "stdout",
     "output_type": "stream",
     "text": [
      "[5, 28, 63, 250, 835, 947]\n"
     ]
    }
   ],
   "source": [
    "def radix_sort(A):\n",
    "  n = len(A)\n",
    "  max_element = max(A)\n",
    "  digits = len(str(max_element))\n",
    "  bins = [[]] * 10\n",
    "  \n",
    "  for i in range(digits):\n",
    "    for element in A:\n",
    "      e = int(element / pow(10, i)) % 10\n",
    "      if len(bins[e]) == 0:\n",
    "        bins[e] = [element]\n",
    "      else:\n",
    "        bins[e].append(element)\n",
    "\n",
    "    k = 0\n",
    "    for x in range(10):\n",
    "      if len(bins[x]) > 0:\n",
    "        for y in range(len(bins[x])):\n",
    "          A[k] = bins[x].pop(0)\n",
    "          k += 1\n",
    " \n",
    "A = [63, 250, 835, 947, 5, 28]\n",
    "radix_sort(A)\n",
    "print(A)"
   ]
  },
  {
   "cell_type": "markdown",
   "metadata": {},
   "source": [
    "\n",
    "## TimSort\n",
    "\n",
    "**O(n logn)**\n",
    "\n",
    "Space complexity : **O(n)**"
   ]
  },
  {
   "cell_type": "code",
   "execution_count": 43,
   "metadata": {
    "executionInfo": {
     "elapsed": 404,
     "status": "ok",
     "timestamp": 1681212371274,
     "user": {
      "displayName": "Bikash Bhoi",
      "userId": "08462101886525769565"
     },
     "user_tz": -330
    },
    "id": "GaKNahQW8txs"
   },
   "outputs": [],
   "source": []
  }
 ],
 "metadata": {
  "colab": {
   "authorship_tag": "ABX9TyMImvU2hYTIyn1T+Eg8kjL3",
   "provenance": []
  },
  "kernelspec": {
   "display_name": "Python 3",
   "language": "python",
   "name": "python3"
  },
  "language_info": {
   "codemirror_mode": {
    "name": "ipython",
    "version": 3
   },
   "file_extension": ".py",
   "mimetype": "text/x-python",
   "name": "python",
   "nbconvert_exporter": "python",
   "pygments_lexer": "ipython3",
   "version": "3.8.5"
  }
 },
 "nbformat": 4,
 "nbformat_minor": 1
}
